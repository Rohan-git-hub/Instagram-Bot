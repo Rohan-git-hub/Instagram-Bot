{
 "cells": [
  {
   "cell_type": "code",
   "execution_count": 1,
   "metadata": {},
   "outputs": [],
   "source": [
    "import pandas as pd\n",
    "import numpy as np\n",
    "from selenium import webdriver\n",
    "import time\n",
    "from bs4 import BeautifulSoup as bt\n",
    "from selenium.common.exceptions import NoSuchElementException"
   ]
  },
  {
   "cell_type": "code",
   "execution_count": 106,
   "metadata": {},
   "outputs": [],
   "source": [
    "driver=webdriver.Chrome(executable_path='/Users/Pavilion/Downloads/chromedriver')"
   ]
  },
  {
   "cell_type": "code",
   "execution_count": 107,
   "metadata": {},
   "outputs": [],
   "source": [
    "driver.get(\"https://www.instagram.com/\")"
   ]
  },
  {
   "cell_type": "markdown",
   "metadata": {},
   "source": [
    "# Username=Your Username\n",
    "\n",
    "# Password= Your Password\n",
    "\n",
    "# base link=\"https://www.instagram.com/\"\n",
    "_5f5mN       jIbKX  _6VtSN     yZn4P   "
   ]
  },
  {
   "cell_type": "code",
   "execution_count": 109,
   "metadata": {},
   "outputs": [],
   "source": [
    "username_password=driver.find_elements_by_class_name(\"_2hvTZ\")\n",
    "username=username_password[0]\n",
    "password=username_password[1]"
   ]
  },
  {
   "cell_type": "code",
   "execution_count": 28,
   "metadata": {},
   "outputs": [],
   "source": [
    "base_link=\"https://www.instagram.com/\""
   ]
  },
  {
   "cell_type": "code",
   "execution_count": 110,
   "metadata": {},
   "outputs": [],
   "source": [
    "username.send_keys(\"Your Username\")\n",
    "password.send_keys(\"your password\")"
   ]
  },
  {
   "cell_type": "code",
   "execution_count": 111,
   "metadata": {},
   "outputs": [],
   "source": [
    "password.submit()"
   ]
  },
  {
   "cell_type": "code",
   "execution_count": 46,
   "metadata": {},
   "outputs": [
    {
     "data": {
      "text/plain": [
       "<selenium.webdriver.remote.webelement.WebElement (session=\"1a22e7b4e143fee2feb11bd8b27eaf22\", element=\"dca23628-af86-4650-9eb3-4b8ba8ca9b9f\")>"
      ]
     },
     "execution_count": 46,
     "metadata": {},
     "output_type": "execute_result"
    }
   ],
   "source": [
    "search=driver.find_element_by_class_name(\"XTCLo\")\n",
    "search"
   ]
  },
  {
   "cell_type": "code",
   "execution_count": 47,
   "metadata": {},
   "outputs": [],
   "source": [
    "search.send_keys(\"shayari\")"
   ]
  },
  {
   "cell_type": "code",
   "execution_count": 48,
   "metadata": {},
   "outputs": [],
   "source": [
    "handles=driver.find_elements_by_class_name(\"yCE8d\")"
   ]
  },
  {
   "cell_type": "code",
   "execution_count": 49,
   "metadata": {},
   "outputs": [],
   "source": [
    "handle_links=[]"
   ]
  },
  {
   "cell_type": "code",
   "execution_count": 50,
   "metadata": {},
   "outputs": [
    {
     "data": {
      "text/plain": [
       "55"
      ]
     },
     "execution_count": 50,
     "metadata": {},
     "output_type": "execute_result"
    }
   ],
   "source": [
    "len(handles)"
   ]
  },
  {
   "cell_type": "code",
   "execution_count": 51,
   "metadata": {},
   "outputs": [],
   "source": [
    "for i in handles:\n",
    "    handle_links.append(i.get_attribute('href'))"
   ]
  },
  {
   "cell_type": "code",
   "execution_count": 52,
   "metadata": {},
   "outputs": [
    {
     "name": "stdout",
     "output_type": "stream",
     "text": [
      "https://www.instagram.com/shayari.lover.143/\n",
      "https://www.instagram.com/unheard_shayari/\n",
      "https://www.instagram.com/explore/tags/shayari/\n",
      "https://www.instagram.com/explore/locations/349448255481061/shayari/\n",
      "https://www.instagram.com/terebinyaara/\n",
      "https://www.instagram.com/explore/locations/333568923419952/shayari-wali-ankhee/\n",
      "https://www.instagram.com/nusta.sarcasm/\n",
      "https://www.instagram.com/explore/locations/108901603864454/shayari_lover_02/\n",
      "https://www.instagram.com/explore/locations/100544054882049/shayari-of-heartscom/\n",
      "https://www.instagram.com/explore/locations/169965317001631/shayari-lovers/\n",
      "https://www.instagram.com/lovesmee_/\n",
      "https://www.instagram.com/shayari_blossoms/\n",
      "https://www.instagram.com/teri.meri.bate/\n",
      "https://www.instagram.com/shayari_creation/\n",
      "https://www.instagram.com/shayariepaigham/\n",
      "https://www.instagram.com/explore/locations/200257363776348/shayariwell/\n",
      "https://www.instagram.com/two.line.shayari/\n",
      "https://www.instagram.com/breakupspecial/\n",
      "https://www.instagram.com/explore/locations/106506611019837/shayari-deep-singh-latte/\n",
      "https://www.instagram.com/explore/locations/102810391341949/_shayari_wali__/\n",
      "https://www.instagram.com/explore/locations/110294370454145/meri-shayari-meri-baat/\n",
      "https://www.instagram.com/explore/locations/1828032364116016/shayari_like_romantic__fantastic/\n",
      "https://www.instagram.com/shayari_darbaar/\n",
      "https://www.instagram.com/mirza__ghalib/\n",
      "https://www.instagram.com/unnarrated_shayari/\n",
      "https://www.instagram.com/shayari__dil.se/\n",
      "https://www.instagram.com/explore/locations/109747817186091/shayarihindime/\n",
      "https://www.instagram.com/explore/tags/shayariquotes/\n",
      "https://www.instagram.com/_true_love_shayari_lines_post/\n",
      "https://www.instagram.com/thescriptedshayari/\n",
      "https://www.instagram.com/shayari_station/\n",
      "https://www.instagram.com/shayari.rajput.7/\n",
      "https://www.instagram.com/_justanother.shayaripage_/\n",
      "https://www.instagram.com/__.x.broken_heart.x.__/\n",
      "https://www.instagram.com/shayari_dil_se_.111/\n",
      "https://www.instagram.com/shayari.music.love/\n",
      "https://www.instagram.com/shayari_sofia/\n",
      "https://www.instagram.com/explore/locations/162116947875444/shayaripoetry/\n",
      "https://www.instagram.com/explore/tags/shayarilover/\n",
      "https://www.instagram.com/shayari__love__shayri/\n",
      "https://www.instagram.com/fuckshayari/\n",
      "https://www.instagram.com/shayarikeeda/\n",
      "https://www.instagram.com/shayari_dose/\n",
      "https://www.instagram.com/shayari_doze/\n",
      "https://www.instagram.com/sadshayari24seven/\n",
      "https://www.instagram.com/shayaripaper/\n",
      "https://www.instagram.com/shayariadda/\n",
      "https://www.instagram.com/_sher_shayari/\n",
      "https://www.instagram.com/breakup_diary44/\n",
      "https://www.instagram.com/shayari_feelings_/\n",
      "https://www.instagram.com/shayari_wali_dayari_/\n",
      "https://www.instagram.com/shayari_dil_sedil_tak/\n",
      "https://www.instagram.com/shayari_dil_ki_baat_wali/\n",
      "https://www.instagram.com/dilsay_shayari/\n",
      "https://www.instagram.com/shayari__.786/\n"
     ]
    }
   ],
   "source": [
    "for i in handle_links:\n",
    "    print(i)"
   ]
  },
  {
   "cell_type": "code",
   "execution_count": 53,
   "metadata": {},
   "outputs": [],
   "source": [
    "for i in handle_links:\n",
    "    driver.get(i)\n",
    "    try:\n",
    "        follow_button=driver.find_element_by_xpath(\"//button[contains(@class,'_6VtSN')]\")\n",
    "        follow_button.click()\n",
    "    except NoSuchElementException:\n",
    "        continue"
   ]
  },
  {
   "cell_type": "code",
   "execution_count": 82,
   "metadata": {},
   "outputs": [],
   "source": [
    "link=[\"https://www.instagram.com/shayari.lover.143/followers/\"]\n",
    "driver.get(link[0])\n",
    "f=driver.find_element_by_class_name(\"-nal3\")\n",
    "f.click()"
   ]
  },
  {
   "cell_type": "code",
   "execution_count": 87,
   "metadata": {},
   "outputs": [],
   "source": [
    "profiles=[]"
   ]
  },
  {
   "cell_type": "code",
   "execution_count": 112,
   "metadata": {},
   "outputs": [
    {
     "data": {
      "text/plain": [
       "348"
      ]
     },
     "execution_count": 112,
     "metadata": {},
     "output_type": "execute_result"
    }
   ],
   "source": [
    "len(profiles)"
   ]
  },
  {
   "cell_type": "code",
   "execution_count": 88,
   "metadata": {},
   "outputs": [],
   "source": [
    "follow_btn=driver.find_elements_by_xpath(\"//a[contains(@class,'FPmhX')]\")\n",
    "for i in follow_btn:\n",
    "    profiles.append(i.get_attribute(\"href\"))"
   ]
  },
  {
   "cell_type": "code",
   "execution_count": null,
   "metadata": {},
   "outputs": [],
   "source": [
    "for i in profiles:\n",
    "    driver.get(i)\n",
    "    time.sleep(1)\n",
    "    try:\n",
    "        follow_button=driver.find_element_by_xpath(\"//button[contains(@class,'_6VtSN')]\")\n",
    "        follow_button.click()\n",
    "        time.sleep(1)\n",
    "    except NoSuchElementException:\n",
    "        try:\n",
    "            f=driver.find_element_by_xpath(\"//button[contains(@class,'BY3EC')]\")\n",
    "            f.click()\n",
    "            time.sleep(1)\n",
    "        except NoSuchElementException:\n",
    "            continue "
   ]
  }
 ],
 "metadata": {
  "kernelspec": {
   "display_name": "Python 3",
   "language": "python",
   "name": "python3"
  },
  "language_info": {
   "codemirror_mode": {
    "name": "ipython",
    "version": 3
   },
   "file_extension": ".py",
   "mimetype": "text/x-python",
   "name": "python",
   "nbconvert_exporter": "python",
   "pygments_lexer": "ipython3",
   "version": "3.7.3"
  }
 },
 "nbformat": 4,
 "nbformat_minor": 2
}
